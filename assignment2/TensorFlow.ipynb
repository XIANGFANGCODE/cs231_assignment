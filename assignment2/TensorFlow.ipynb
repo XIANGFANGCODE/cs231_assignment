{
 "cells": [
  {
   "cell_type": "markdown",
   "metadata": {},
   "source": [
    "## What's this TensorFlow business?\n",
    "\n",
    "You've written a lot of code in this assignment to provide a whole host of neural network functionality. Dropout, Batch Norm, and 2D convolutions are some of the workhorses of deep learning in computer vision. You've also worked hard to make your code efficient and vectorized.\n",
    "\n",
    "For the last part of this assignment, though, we're going to leave behind your beautiful codebase and instead migrate to one of two popular deep learning frameworks: in this instance, TensorFlow (or PyTorch, if you switch over to that notebook)\n",
    "\n",
    "#### What is it?\n",
    "TensorFlow is a system for executing computational graphs over Tensor objects, with native support for performing backpropogation for its Variables. In it, we work with Tensors which are n-dimensional arrays analogous to the numpy ndarray.\n",
    "\n",
    "#### Why?\n",
    "\n",
    "* Our code will now run on GPUs! Much faster training. Writing your own modules to run on GPUs is beyond the scope of this class, unfortunately.\n",
    "* We want you to be ready to use one of these frameworks for your project so you can experiment more efficiently than if you were writing every feature you want to use by hand. \n",
    "* We want you to stand on the shoulders of giants! TensorFlow and PyTorch are both excellent frameworks that will make your lives a lot easier, and now that you understand their guts, you are free to use them :) \n",
    "* We want you to be exposed to the sort of deep learning code you might run into in academia or industry. "
   ]
  },
  {
   "cell_type": "markdown",
   "metadata": {},
   "source": [
    "## How will I learn TensorFlow?\n",
    "\n",
    "TensorFlow has many excellent tutorials available, including those from [Google themselves](https://www.tensorflow.org/get_started/get_started).\n",
    "\n",
    "Otherwise, this notebook will walk you through much of what you need to do to train models in TensorFlow. See the end of the notebook for some links to helpful tutorials if you want to learn more or need further clarification on topics that aren't fully explained here."
   ]
  },
  {
   "cell_type": "markdown",
   "metadata": {},
   "source": [
    "## Load Datasets\n"
   ]
  },
  {
   "cell_type": "code",
   "execution_count": 1,
   "metadata": {},
   "outputs": [
    {
     "name": "stderr",
     "output_type": "stream",
     "text": [
      "/Users/fangxiang/anaconda3/lib/python3.6/importlib/_bootstrap.py:219: RuntimeWarning: compiletime version 3.5 of module 'tensorflow.python.framework.fast_tensor_util' does not match runtime version 3.6\n",
      "  return f(*args, **kwds)\n"
     ]
    }
   ],
   "source": [
    "import tensorflow as tf\n",
    "import numpy as np\n",
    "import math\n",
    "import timeit\n",
    "import matplotlib.pyplot as plt\n",
    "%matplotlib inline"
   ]
  },
  {
   "cell_type": "code",
   "execution_count": 35,
   "metadata": {},
   "outputs": [
    {
     "name": "stdout",
     "output_type": "stream",
     "text": [
      "Train data shape:  (49000, 32, 32, 3)\n",
      "Train labels shape:  (49000,)\n",
      "Validation data shape:  (1000, 32, 32, 3)\n",
      "Validation labels shape:  (1000,)\n",
      "Test data shape:  (10000, 32, 32, 3)\n",
      "Test labels shape:  (10000,)\n"
     ]
    }
   ],
   "source": [
    "from cs231n.data_utils import load_CIFAR10\n",
    "\n",
    "def get_CIFAR10_data(num_training=49000, num_validation=1000, num_test=10000):\n",
    "    \"\"\"\n",
    "    Load the CIFAR-10 dataset from disk and perform preprocessing to prepare\n",
    "    it for the two-layer neural net classifier. These are the same steps as\n",
    "    we used for the SVM, but condensed to a single function.  \n",
    "    \"\"\"\n",
    "    # Load the raw CIFAR-10 data\n",
    "    cifar10_dir = 'cs231n/datasets/cifar-10-batches-py'\n",
    "    X_train, y_train, X_test, y_test = load_CIFAR10(cifar10_dir)\n",
    "\n",
    "    # Subsample the data\n",
    "    mask = range(num_training, num_training + num_validation)\n",
    "    X_val = X_train[mask]\n",
    "    y_val = y_train[mask]\n",
    "    mask = range(num_training)\n",
    "    X_train = X_train[mask]\n",
    "    y_train = y_train[mask]\n",
    "    mask = range(num_test)\n",
    "    X_test = X_test[mask]\n",
    "    y_test = y_test[mask]\n",
    "\n",
    "    # Normalize the data: subtract the mean image\n",
    "    mean_image = np.mean(X_train, axis=0)\n",
    "    X_train -= mean_image\n",
    "    X_val -= mean_image\n",
    "    X_test -= mean_image\n",
    "\n",
    "    return X_train, y_train, X_val, y_val, X_test, y_test\n",
    "\n",
    "\n",
    "# Invoke the above function to get our data.\n",
    "X_train, y_train, X_val, y_val, X_test, y_test = get_CIFAR10_data()\n",
    "print('Train data shape: ', X_train.shape)\n",
    "print('Train labels shape: ', y_train.shape)\n",
    "print('Validation data shape: ', X_val.shape)\n",
    "print('Validation labels shape: ', y_val.shape)\n",
    "print('Test data shape: ', X_test.shape)\n",
    "print('Test labels shape: ', y_test.shape)"
   ]
  },
  {
   "cell_type": "code",
   "execution_count": 44,
   "metadata": {},
   "outputs": [
    {
     "name": "stdout",
     "output_type": "stream",
     "text": [
      "float64\n",
      "(1, 32, 32, 3)\n",
      "[[[[ 40.35810204  51.01826531  81.52608163]\n",
      "   [ 38.94430612  51.65195918  82.24597959]\n",
      "   [ 37.03944898  50.85671429  81.52363265]\n",
      "   ..., \n",
      "   [ 52.08416327  57.82467347  79.70193878]\n",
      "   [ 49.74489796  54.4197551   77.1307551 ]\n",
      "   [ 50.94502041  56.63465306  78.21483673]]\n",
      "\n",
      "  [[ 39.97585714  48.78316327  79.72267347]\n",
      "   [ 38.73944898  49.63691837  79.63771429]\n",
      "   [ 36.86344898  49.91895918  79.00018367]\n",
      "   ..., \n",
      "   [ 56.07028571  54.96422449  79.21777551]\n",
      "   [ 52.7807551   54.544       77.61238776]\n",
      "   [ 50.94636735  55.70804082  78.64302041]]\n",
      "\n",
      "  [[ 41.33663265  50.41510204  80.81738776]\n",
      "   [ 39.34353061  50.57302041  80.05812245]\n",
      "   [ 38.58165306  51.01312245  80.59912245]\n",
      "   ..., \n",
      "   [ 52.87120408  55.11087755  79.79559184]\n",
      "   [ 51.48989796  54.52940816  78.02171429]\n",
      "   [ 50.48187755  56.50165306  78.84563265]]\n",
      "\n",
      "  ..., \n",
      "  [[-13.53626531   7.06446939  34.86355102]\n",
      "   [ -9.56961224  11.28759184  39.22930612]\n",
      "   [ -6.90812245  14.21993878  42.274     ]\n",
      "   ..., \n",
      "   [ -5.28104082  18.95071429  44.08228571]\n",
      "   [ -4.71422449  18.22269388  44.21557143]\n",
      "   [ -6.54308163  16.1052449   41.86181633]]\n",
      "\n",
      "  [[-16.05942857   4.63295918  32.35404082]\n",
      "   [-13.44416327   6.44293878  34.32144898]\n",
      "   [-12.2555102    7.84238776  35.84595918]\n",
      "   ..., \n",
      "   [ -9.53432653  13.61495918  39.70189796]\n",
      "   [-10.6054898   12.32565306  38.25883673]\n",
      "   [-13.01536735   9.68942857  35.37018367]]\n",
      "\n",
      "  [[-25.73597959  -5.95240816  20.54336735]\n",
      "   [-22.58926531  -2.64944898  24.02361224]\n",
      "   [-21.85330612  -0.75191837  25.05283673]\n",
      "   ..., \n",
      "   [-15.8035102    7.26855102  33.137     ]\n",
      "   [-16.56571429   6.37042857  32.08042857]\n",
      "   [-15.64218367   7.13804082  32.60042857]]]]\n",
      "astype\n",
      "float32\n",
      "(1, 32, 32, 3)\n",
      "[[[[ 40.35810089  51.01826477  81.5260849 ]\n",
      "   [ 38.94430542  51.65195847  82.24597931]\n",
      "   [ 37.03944778  50.85671616  81.52363586]\n",
      "   ..., \n",
      "   [ 52.08416367  57.8246727   79.70194244]\n",
      "   [ 49.74489975  54.41975403  77.13075256]\n",
      "   [ 50.94501877  56.63465118  78.21483612]]\n",
      "\n",
      "  [[ 39.97585678  48.78316498  79.72267151]\n",
      "   [ 38.73944855  49.63691711  79.63771057]\n",
      "   [ 36.8634491   49.91896057  79.00018311]\n",
      "   ..., \n",
      "   [ 56.0702858   54.96422577  79.21777344]\n",
      "   [ 52.78075409  54.54399872  77.61238861]\n",
      "   [ 50.94636917  55.70804214  78.64302063]]\n",
      "\n",
      "  [[ 41.33663177  50.41510391  80.81739044]\n",
      "   [ 39.34352875  50.57302094  80.05812073]\n",
      "   [ 38.58165359  51.01312256  80.59912109]\n",
      "   ..., \n",
      "   [ 52.87120438  55.11087799  79.79559326]\n",
      "   [ 51.48989868  54.5294075   78.02171326]\n",
      "   [ 50.48187637  56.50165176  78.84563446]]\n",
      "\n",
      "  ..., \n",
      "  [[-13.53626537   7.06446934  34.86355209]\n",
      "   [ -9.5696125   11.28759193  39.22930527]\n",
      "   [ -6.90812254  14.21993923  42.27399826]\n",
      "   ..., \n",
      "   [ -5.28104067  18.95071411  44.08228683]\n",
      "   [ -4.71422434  18.2226944   44.21557236]\n",
      "   [ -6.54308176  16.10524559  41.86181641]]\n",
      "\n",
      "  [[-16.05942917   4.63295937  32.35404205]\n",
      "   [-13.44416332   6.4429388   34.32144928]\n",
      "   [-12.25551033   7.84238768  35.84595871]\n",
      "   ..., \n",
      "   [ -9.53432655  13.61495876  39.70189667]\n",
      "   [-10.60548973  12.32565308  38.25883484]\n",
      "   [-13.01536751   9.68942833  35.37018204]]\n",
      "\n",
      "  [[-25.73597908  -5.95240831  20.54336739]\n",
      "   [-22.58926582  -2.64944887  24.02361298]\n",
      "   [-21.85330582  -0.75191838  25.05283737]\n",
      "   ..., \n",
      "   [-15.80351067   7.26855087  33.13700104]\n",
      "   [-16.56571388   6.37042856  32.08042908]\n",
      "   [-15.6421833    7.13804102  32.60042953]]]]\n"
     ]
    }
   ],
   "source": [
    "yy = X_val[0:1]\n",
    "print (yy.dtype)\n",
    "print (yy.shape)\n",
    "print (yy)\n",
    "#b.astype\n",
    "print ('astype')\n",
    "zz = yy.astype(np.float32)\n",
    "print (zz.dtype)\n",
    "print (zz.shape)\n",
    "print (zz)"
   ]
  },
  {
   "cell_type": "markdown",
   "metadata": {},
   "source": [
    "## Example Model\n",
    "\n",
    "### Some useful utilities\n",
    "\n",
    ". Remember that our image data is initially N x H x W x C, where:\n",
    "* N is the number of datapoints\n",
    "* H is the height of each image in pixels\n",
    "* W is the height of each image in pixels\n",
    "* C is the number of channels (usually 3: R, G, B)\n",
    "\n",
    "This is the right way to represent the data when we are doing something like a 2D convolution, which needs spatial understanding of where the pixels are relative to each other. When we input image data into fully connected affine layers, however, we want each data example to be represented by a single vector -- it's no longer useful to segregate the different channels, rows, and columns of the data."
   ]
  },
  {
   "cell_type": "markdown",
   "metadata": {},
   "source": [
    "### The example model itself\n",
    "\n",
    "The first step to training your own model is defining its architecture.\n",
    "\n",
    "Here's an example of a convolutional neural network defined in TensorFlow -- try to understand what each line is doing, remembering that each layer is composed upon the previous layer. We haven't trained anything yet - that'll come next - for now, we want you to understand how everything gets set up. \n",
    "\n",
    "In that example, you see 2D convolutional layers (Conv2d), ReLU activations, and fully-connected layers (Linear). You also see the Hinge loss function, and the Adam optimizer being used. \n",
    "\n",
    "Make sure you understand why the parameters of the Linear layer are 5408 and 10.\n",
    "\n",
    "### TensorFlow Details\n",
    "In TensorFlow, much like in our previous notebooks, we'll first specifically initialize our variables, and then our network model."
   ]
  },
  {
   "cell_type": "code",
   "execution_count": 3,
   "metadata": {
    "collapsed": true
   },
   "outputs": [],
   "source": [
    "# clear old variables\n",
    "tf.reset_default_graph()\n",
    "\n",
    "# setup input (e.g. the data that changes every batch)\n",
    "# The first dim is None, and gets sets automatically based on batch size fed in\n",
    "X = tf.placeholder(tf.float32, [None, 32, 32, 3])\n",
    "y = tf.placeholder(tf.int64, [None])\n",
    "is_training = tf.placeholder(tf.bool)\n",
    "\n",
    "def simple_model(X,y):\n",
    "    # define our weights (e.g. init_two_layer_convnet)\n",
    "    \n",
    "    # setup variables\n",
    "    Wconv1 = tf.get_variable(\"Wconv1\", shape=[7, 7, 3, 32])\n",
    "    bconv1 = tf.get_variable(\"bconv1\", shape=[32])\n",
    "    W1 = tf.get_variable(\"W1\", shape=[5408, 10])\n",
    "    b1 = tf.get_variable(\"b1\", shape=[10])\n",
    "\n",
    "    # define our graph (e.g. two_layer_convnet)\n",
    "    a1 = tf.nn.conv2d(X, Wconv1, strides=[1,2,2,1], padding='VALID') + bconv1\n",
    "    h1 = tf.nn.relu(a1)\n",
    "    h1_flat = tf.reshape(h1,[-1,5408])\n",
    "    y_out = tf.matmul(h1_flat,W1) + b1\n",
    "    return y_out\n",
    "\n",
    "y_out = simple_model(X,y)\n",
    "\n",
    "# define our loss\n",
    "total_loss = tf.losses.hinge_loss(tf.one_hot(y,10),logits=y_out)\n",
    "mean_loss = tf.reduce_mean(total_loss)\n",
    "\n",
    "# define our optimizer\n",
    "optimizer = tf.train.AdamOptimizer(5e-4) # select optimizer and set learning rate\n",
    "train_step = optimizer.minimize(mean_loss)"
   ]
  },
  {
   "cell_type": "markdown",
   "metadata": {},
   "source": [
    "TensorFlow supports many other layer types, loss functions, and optimizers - you will experiment with these next. Here's the official API documentation for these (if any of the parameters used above were unclear, this resource will also be helpful). \n",
    "\n",
    "* Layers, Activations, Loss functions : https://www.tensorflow.org/api_guides/python/nn\n",
    "* Optimizers: https://www.tensorflow.org/api_guides/python/train#Optimizers\n",
    "* BatchNorm: https://www.tensorflow.org/api_docs/python/tf/layers/batch_normalization"
   ]
  },
  {
   "cell_type": "markdown",
   "metadata": {},
   "source": [
    "### Training the model on one epoch\n",
    "While we have defined a graph of operations above, in order to execute TensorFlow Graphs, by feeding them input data and computing the results, we first need to create a `tf.Session` object. A session encapsulates the control and state of the TensorFlow runtime. For more information, see the TensorFlow [Getting started](https://www.tensorflow.org/get_started/get_started) guide.\n",
    "\n",
    "Optionally we can also specify a device context such as `/cpu:0` or `/gpu:0`. For documentation on this behavior see [this TensorFlow guide](https://www.tensorflow.org/tutorials/using_gpu)\n",
    "\n",
    "You should see a validation loss of around 0.4 to 0.6 and an accuracy of 0.30 to 0.35 below"
   ]
  },
  {
   "cell_type": "code",
   "execution_count": 4,
   "metadata": {},
   "outputs": [
    {
     "name": "stdout",
     "output_type": "stream",
     "text": [
      "Training\n",
      "Iteration 0: with minibatch training loss = 7.33 and accuracy of 0.17\n",
      "Iteration 100: with minibatch training loss = 1.15 and accuracy of 0.17\n",
      "Iteration 200: with minibatch training loss = 0.795 and accuracy of 0.27\n",
      "Iteration 300: with minibatch training loss = 0.588 and accuracy of 0.33\n",
      "Iteration 400: with minibatch training loss = 0.505 and accuracy of 0.36\n",
      "Iteration 500: with minibatch training loss = 0.435 and accuracy of 0.39\n",
      "Iteration 600: with minibatch training loss = 0.505 and accuracy of 0.28\n",
      "Iteration 700: with minibatch training loss = 0.439 and accuracy of 0.34\n",
      "Epoch 1, Overall loss = 0.745 and accuracy of 0.312\n"
     ]
    },
    {
     "data": {
      "image/png": "[encoded data removed]",
      "text/plain": [
       "<matplotlib.figure.Figure at 0x187c1123c8>"
      ]
     },
     "metadata": {},
     "output_type": "display_data"
    },
    {
     "name": "stdout",
     "output_type": "stream",
     "text": [
      "Validation\n",
      "Epoch 1, Overall loss = 0.443 and accuracy of 0.39\n"
     ]
    }
   ],
   "source": [
    "def run_model(session, predict, loss_val, Xd, yd,\n",
    "              epochs=1, batch_size=64, print_every=100,\n",
    "              training=None, plot_losses=False):\n",
    "    # have tensorflow compute accuracy\n",
    "    correct_prediction = tf.equal(tf.argmax(predict,1), y)\n",
    "    accuracy = tf.reduce_mean(tf.cast(correct_prediction, tf.float32))\n",
    "    \n",
    "    # shuffle indicies\n",
    "    train_indicies = np.arange(Xd.shape[0])\n",
    "    np.random.shuffle(train_indicies)\n",
    "\n",
    "    training_now = training is not None\n",
    "    \n",
    "    # setting up variables we want to compute (and optimizing)\n",
    "    # if we have a training function, add that to things we compute\n",
    "    variables = [mean_loss,correct_prediction,accuracy]\n",
    "    if training_now:\n",
    "        variables[-1] = training\n",
    "    \n",
    "    # counter \n",
    "    iter_cnt = 0\n",
    "    for e in range(epochs):\n",
    "        # keep track of losses and accuracy\n",
    "        correct = 0\n",
    "        losses = []\n",
    "        # make sure we iterate over the dataset once\n",
    "        for i in range(int(math.ceil(Xd.shape[0]/batch_size))):\n",
    "            # generate indicies for the batch\n",
    "            start_idx = (i*batch_size)%Xd.shape[0]\n",
    "            idx = train_indicies[start_idx:start_idx+batch_size]\n",
    "            \n",
    "            # create a feed dictionary for this batch\n",
    "            feed_dict = {X: Xd[idx,:],\n",
    "                         y: yd[idx],\n",
    "                         is_training: training_now }\n",
    "            # get batch size\n",
    "            actual_batch_size = yd[idx].shape[0]\n",
    "            \n",
    "            # have tensorflow compute loss and correct predictions\n",
    "            # and (if given) perform a training step\n",
    "            loss, corr, _ = session.run(variables,feed_dict=feed_dict)\n",
    "            \n",
    "            # aggregate performance stats\n",
    "            losses.append(loss*actual_batch_size)\n",
    "            correct += np.sum(corr)\n",
    "            \n",
    "            # print every now and then\n",
    "            if training_now and (iter_cnt % print_every) == 0:\n",
    "                print(\"Iteration {0}: with minibatch training loss = {1:.3g} and accuracy of {2:.2g}\"\\\n",
    "                      .format(iter_cnt,loss,np.sum(corr)/actual_batch_size))\n",
    "            iter_cnt += 1\n",
    "        total_correct = correct/Xd.shape[0]\n",
    "        total_loss = np.sum(losses)/Xd.shape[0]\n",
    "        print(\"Epoch {2}, Overall loss = {0:.3g} and accuracy of {1:.3g}\"\\\n",
    "              .format(total_loss,total_correct,e+1))\n",
    "        if plot_losses:\n",
    "            plt.plot(losses)\n",
    "            plt.grid(True)\n",
    "            plt.title('Epoch {} Loss'.format(e+1))\n",
    "            plt.xlabel('minibatch number')\n",
    "            plt.ylabel('minibatch loss')\n",
    "            plt.show()\n",
    "    return total_loss,total_correct\n",
    "\n",
    "with tf.Session() as sess:\n",
    "    with tf.device(\"/cpu:0\"): #\"/cpu:0\" or \"/gpu:0\" \n",
    "        sess.run(tf.global_variables_initializer())\n",
    "        print('Training')\n",
    "        run_model(sess,y_out,mean_loss,X_train,y_train,1,64,100,train_step,True)\n",
    "        print('Validation')\n",
    "        run_model(sess,y_out,mean_loss,X_val,y_val,1,64)"
   ]
  },
  {
   "cell_type": "markdown",
   "metadata": {},
   "source": [
    "## Training a specific model\n",
    "\n",
    "In this section, we're going to specify a model for you to construct. The goal here isn't to get good performance (that'll be next), but instead to get comfortable with understanding the TensorFlow documentation and configuring your own model. \n",
    "\n",
    "Using the code provided above as guidance, and using the following TensorFlow documentation, specify a model with the following architecture:\n",
    "\n",
    "* 7x7 Convolutional Layer with 32 filters and stride of 1\n",
    "* ReLU Activation Layer\n",
    "* Spatial Batch Normalization Layer (trainable parameters, with scale and centering)\n",
    "* 2x2 Max Pooling layer with a stride of 2\n",
    "* Affine layer with 1024 output units\n",
    "* ReLU Activation Layer\n",
    "* Affine layer from 1024 input units to 10 outputs\n",
    "\n"
   ]
  },
  {
   "cell_type": "code",
   "execution_count": 5,
   "metadata": {},
   "outputs": [
    {
     "name": "stdout",
     "output_type": "stream",
     "text": [
      "(?, 26, 26, 32)\n",
      "(?, 26, 26, 32)\n",
      "(?, 26, 26, 32)\n",
      "(?, 13, 13, 32)\n",
      "(?, 5408)\n",
      "(?, 1024)\n",
      "(?, 1024)\n",
      "(?, 10)\n"
     ]
    }
   ],
   "source": [
    "from math import ceil\n",
    "from tensorflow.python.training.moving_averages import assign_moving_average\n",
    "\n",
    "# clear old variables\n",
    "tf.reset_default_graph()\n",
    "\n",
    "# define our input (e.g. the data that changes every batch)\n",
    "# The first dim is None, and gets sets automatically based on batch size fed in\n",
    "X = tf.placeholder(tf.float32, [None, 32, 32, 3])\n",
    "y = tf.placeholder(tf.int64, [None])\n",
    "is_training = tf.placeholder(tf.bool)\n",
    "\n",
    "def compute_conv_outshape(in_height, in_width, filter_height, filter_width, strides, mode):\n",
    "    out_height, out_width = 0, 0\n",
    "    if mode == 'SAME':\n",
    "        out_height = ceil(float(in_height) / float(strides[1]))\n",
    "        out_width  = ceil(float(in_width) / float(strides[2]))\n",
    "    elif mode == 'VALID':\n",
    "        out_height = ceil(float(in_height - filter_height + 1) / float(strides[1]))\n",
    "        out_width  = ceil(float(in_width - filter_width + 1) / float(strides[2]))\n",
    "    else:\n",
    "        raise ValueError('Invalid padding mode  \"%s\"' % mode)\n",
    "    return out_height, out_width\n",
    "\n",
    "def compute_max_pool_outshape(in_height, in_width, ksize, strides, mode):\n",
    "    out_height, out_width = 0, 0\n",
    "    if mode == 'SAME':\n",
    "        out_height = ceil(float(in_height) / float(strides[1]))\n",
    "        out_width  = ceil(float(in_width) / float(strides[2]))\n",
    "    elif mode == 'VALID':\n",
    "        out_height = ceil(float(in_height - ksize[1] + 1) / float(strides[1]))\n",
    "        out_width  = ceil(float(in_width - ksize[2] + 1) / float(strides[2]))\n",
    "    else:\n",
    "        raise ValueError('Invalid padding mode  \"%s\"' % mode)\n",
    "    return out_height, out_width\n",
    "\n",
    "def batch_norm(x, train, eps = 1e-5, momentum = 0.9, affine = True, name = None):\n",
    "    with  tf.variable_scope(name, default_name='BatchNorm2d'):\n",
    "        params_shape = x.shape[-1:]\n",
    "        axises = list(range(len(x.shape) - 1))\n",
    "        moving_mean = tf.get_variable('moving_mean', shape=params_shape,\n",
    "                                      initializer=tf.zeros_initializer,\n",
    "                                      trainable=False)\n",
    "        moving_variance = tf.get_variable('moving_variance', shape=params_shape,\n",
    "                                          initializer=tf.ones_initializer,\n",
    "                                          trainable=False)\n",
    "        def mean_var_with_update():\n",
    "            mean, variance = tf.nn.moments(x, axises, name='moments')\n",
    "            with tf.control_dependencies([assign_moving_average(moving_mean, mean, momentum),\n",
    "                                          assign_moving_average(moving_variance, variance, momentum)]):\n",
    "                return tf.identity(mean), tf.identity(variance)\n",
    "        mean, variance = tf.cond(train, mean_var_with_update, lambda: (moving_mean, moving_variance))\n",
    "        if affine:\n",
    "            beta = tf.get_variable('beta', params_shape,\n",
    "                                   initializer=tf.zeros_initializer)\n",
    "            gamma = tf.get_variable('gamma', params_shape,\n",
    "                                    initializer=tf.ones_initializer)\n",
    "            x = tf.nn.batch_normalization(x, mean, variance, beta, gamma, eps)\n",
    "        else:\n",
    "            x = tf.nn.batch_normalization(x, mean, variance, None, None, eps)\n",
    "        return x\n",
    "        \n",
    "\n",
    "# define model\n",
    "def complex_model(X,y,is_training):\n",
    "    \n",
    "    in_height = 32\n",
    "    in_width = 32\n",
    "    rgb = 3\n",
    "    filter_height = 7\n",
    "    filter_width = 7\n",
    "    filters_num = 32\n",
    "    strides=[1,1,1,1]\n",
    "    mode = 'VALID'\n",
    "    \n",
    "    # 7x7 Convolutional Layer with 32 filters and stride of 1\n",
    "    Wconv1 = tf.get_variable(\"Wconv1\", shape=[filter_height, filter_width, rgb, filters_num])\n",
    "    bconv1 = tf.get_variable(\"bconv1\", shape=[filters_num])\n",
    "    # Compute Output shape (N, conv_out_height,  conv_out_width,filters_num )\n",
    "    conv_out_height, conv_out_width = compute_conv_outshape(in_height, in_width, filter_height, filter_width, strides, mode)\n",
    "    \n",
    "    # ReLU Activation Layer\n",
    "    # Compute Output shape (N, conv_out_height,  conv_out_width,filters_num )\n",
    "    \n",
    "    # Batch Normalization Layer \n",
    "    # gamma1 = tf.get_variable(\"gamma1\", shape=[filters_num])\n",
    "    # beta1 = tf.get_variable(\"beta1\", shape=[filters_num])\n",
    "    # Compute Output shape (N, conv_out_height,  conv_out_width,filters_num )\n",
    "    \n",
    "    # 2x2 Max Pooling layer with a stride of 2\n",
    "    ksize = [1,2,2,1]\n",
    "    maxpool_strides = [1,2,2,1]\n",
    "    maxpool_out_height, maxpool_out_width = compute_max_pool_outshape(conv_out_height, conv_out_width, ksize, maxpool_strides, mode)\n",
    "    # Compute Output shape (N, maxpool_out_height,  maxpool_out_width, filters_num )\n",
    "\n",
    "    # Affine layer with 1024 output units\n",
    "    affine_output_units1 = 1024\n",
    "    W1 = tf.get_variable(\"W1\", shape=[(maxpool_out_height * maxpool_out_width * filters_num)  , affine_output_units1])\n",
    "    b1 = tf.get_variable(\"b1\", shape=[affine_output_units1])\n",
    "    # Compute Output shape (N,  affine_output_units1 )\n",
    "\n",
    "    # ReLU Activation Layer\n",
    "    # Compute Output shape (N,  affine_output_units1 )\n",
    "    \n",
    "    #Affine layer from 1024 input units to 10 outputs\n",
    "    affine_output_units2 = 10\n",
    "    W2 = tf.get_variable(\"W2\", shape=[affine_output_units1, affine_output_units2])\n",
    "    b2 = tf.get_variable(\"b2\", shape=[affine_output_units2])\n",
    "    \n",
    "    \n",
    "    # define our graph \n",
    "    # 7x7 Convolutional Layer with 32 filters and stride of 1\n",
    "    a1 = tf.nn.conv2d(X, Wconv1, strides=strides, padding=mode) + bconv1\n",
    "    print (a1.shape) \n",
    "    # ReLU Activation Layer\n",
    "    h1 = tf.nn.relu(a1)\n",
    "    print (h1.shape)\n",
    "    # Batch Normalization Layer \n",
    "    bn1 = batch_norm(h1, train = is_training)\n",
    "    print (bn1.shape)\n",
    "    # 2x2 Max Pooling layer with a stride of 2\n",
    "    mp1 = tf.nn.max_pool(bn1, ksize, maxpool_strides,mode)\n",
    "    print (mp1.shape)\n",
    "    #Affine layer with 1024 output units\n",
    "    mp1_reshape = tf.reshape(mp1,[-1,(maxpool_out_height * maxpool_out_width * filters_num)])\n",
    "    print (mp1_reshape.shape)\n",
    "    af1 = tf.matmul(mp1_reshape,W1) + b1\n",
    "    print (af1.shape)\n",
    "    # ReLU Activation Layer\n",
    "    h2 = tf.nn.relu(af1)\n",
    "    print (h2.shape)\n",
    "    #Affine layer from 1024 input units to 10 outputs\n",
    "    #h2_reshape = tf.reshape(h2,[-1,affine_output_units1])\n",
    "    #print (h2_reshape.shape)\n",
    "    y_out = tf.matmul(h2,W2) + b2\n",
    "    print (y_out.shape)\n",
    "    \n",
    "    return y_out\n",
    "    \n",
    "\n",
    "y_out = complex_model(X,y,is_training)"
   ]
  },
  {
   "cell_type": "markdown",
   "metadata": {},
   "source": [
    "To make sure you're doing the right thing, use the following tool to check the dimensionality of your output (it should be 64 x 10, since our batches have size 64 and the output of the final affine layer should be 10, corresponding to our 10 classes):"
   ]
  },
  {
   "cell_type": "code",
   "execution_count": 6,
   "metadata": {},
   "outputs": [
    {
     "name": "stdout",
     "output_type": "stream",
     "text": [
      "99.9 ms ± 2.38 ms per loop (mean ± std. dev. of 7 runs, 10 loops each)\n",
      "(64, 10)\n",
      "True\n"
     ]
    }
   ],
   "source": [
    "# Now we're going to feed a random batch into the model \n",
    "# and make sure the output is the right size\n",
    "x = np.random.randn(64, 32, 32,3)\n",
    "with tf.Session() as sess:\n",
    "    with tf.device(\"/cpu:0\"): #\"/cpu:0\" or \"/gpu:0\"\n",
    "        tf.global_variables_initializer().run()\n",
    "\n",
    "        ans = sess.run(y_out,feed_dict={X:x,is_training:True})\n",
    "        %timeit sess.run(y_out,feed_dict={X:x,is_training:True})\n",
    "        print(ans.shape)\n",
    "        print(np.array_equal(ans.shape, np.array([64, 10])))"
   ]
  },
  {
   "cell_type": "markdown",
   "metadata": {},
   "source": [
    "You should see the following from the run above \n",
    "\n",
    "`(64, 10)`\n",
    "\n",
    "`True`"
   ]
  },
  {
   "cell_type": "markdown",
   "metadata": {},
   "source": [
    "### GPU!\n",
    "\n",
    "Now, we're going to try and start the model under the GPU device, the rest of the code stays unchanged and all our variables and operations will be computed using accelerated code paths. However, if there is no GPU, we get a Python exception and have to rebuild our graph. On a dual-core CPU, you might see around 50-80ms/batch running the above, while the Google Cloud GPUs (run below) should be around 2-5ms/batch."
   ]
  },
  {
   "cell_type": "code",
   "execution_count": 7,
   "metadata": {},
   "outputs": [
    {
     "name": "stdout",
     "output_type": "stream",
     "text": [
      "97.1 ms ± 1.68 ms per loop (mean ± std. dev. of 7 runs, 10 loops each)\n"
     ]
    }
   ],
   "source": [
    "try:\n",
    "    with tf.Session() as sess:\n",
    "        with tf.device(\"/cpu:0\") as dev: #\"/cpu:0\" or \"/gpu:0\"\n",
    "            tf.global_variables_initializer().run()\n",
    "\n",
    "            ans = sess.run(y_out,feed_dict={X:x,is_training:True})\n",
    "            %timeit sess.run(y_out,feed_dict={X:x,is_training:True})\n",
    "except tf.errors.InvalidArgumentError:\n",
    "    print(\"no gpu found, please use Google Cloud if you want GPU acceleration\")    \n",
    "    # rebuild the graph\n",
    "    # trying to start a GPU throws an exception \n",
    "    # and also trashes the original graph\n",
    "    tf.reset_default_graph()\n",
    "    X = tf.placeholder(tf.float32, [None, 32, 32, 3])\n",
    "    y = tf.placeholder(tf.int64, [None])\n",
    "    is_training = tf.placeholder(tf.bool)\n",
    "    y_out = complex_model(X,y,is_training)"
   ]
  },
  {
   "cell_type": "markdown",
   "metadata": {},
   "source": [
    "You should observe that even a simple forward pass like this is significantly faster on the GPU. So for the rest of the assignment (and when you go train your models in assignment 3 and your project!), you should use GPU devices. However, with TensorFlow, the default device is a GPU if one is available, and a CPU otherwise, so we can skip the device specification from now on."
   ]
  },
  {
   "cell_type": "markdown",
   "metadata": {},
   "source": [
    "### Train the model.\n",
    "\n",
    "Now that you've seen how to define a model and do a single forward pass of some data through it, let's  walk through how you'd actually train one whole epoch over your training data (using the complex_model you created provided above).\n",
    "\n",
    "Make sure you understand how each TensorFlow function used below corresponds to what you implemented in your custom neural network implementation.\n",
    "\n",
    "First, set up an **RMSprop optimizer** (using a 1e-3 learning rate) and a **cross-entropy loss** function. See the TensorFlow documentation for more information\n",
    "* Layers, Activations, Loss functions : https://www.tensorflow.org/api_guides/python/nn\n",
    "* Optimizers: https://www.tensorflow.org/api_guides/python/train#Optimizers"
   ]
  },
  {
   "cell_type": "code",
   "execution_count": 8,
   "metadata": {
    "collapsed": true
   },
   "outputs": [],
   "source": [
    "# Inputs\n",
    "#     y_out: is what your model computes\n",
    "#     y: is your TensorFlow variable with label information\n",
    "# Outputs\n",
    "#    mean_loss: a TensorFlow variable (scalar) with numerical loss\n",
    "#    optimizer: a TensorFlow optimizer\n",
    "# This should be ~3 lines of code!\n",
    "total_loss = tf.losses.softmax_cross_entropy(tf.one_hot(y,10), logits=y_out)\n",
    "mean_loss = tf.reduce_mean(total_loss)\n",
    "optimizer = tf.train.AdamOptimizer(5e-4) # select optimizer and set learning rate\n",
    "pass"
   ]
  },
  {
   "cell_type": "code",
   "execution_count": 9,
   "metadata": {
    "collapsed": true
   },
   "outputs": [],
   "source": [
    "# batch normalization in tensorflow requires this extra dependency\n",
    "extra_update_ops = tf.get_collection(tf.GraphKeys.UPDATE_OPS)\n",
    "with tf.control_dependencies(extra_update_ops):\n",
    "    train_step = optimizer.minimize(mean_loss)"
   ]
  },
  {
   "cell_type": "markdown",
   "metadata": {},
   "source": [
    "### Train the model\n",
    "Below we'll create a session and train the model over one epoch. You should see a loss of 1.4 to 2.0 and an accuracy of 0.4 to 0.5. There will be some variation due to random seeds and differences in initialization"
   ]
  },
  {
   "cell_type": "code",
   "execution_count": 10,
   "metadata": {},
   "outputs": [
    {
     "name": "stdout",
     "output_type": "stream",
     "text": [
      "Training\n",
      "Iteration 0: with minibatch training loss = 3.07 and accuracy of 0.11\n",
      "Iteration 100: with minibatch training loss = 1.43 and accuracy of 0.42\n",
      "Iteration 200: with minibatch training loss = 1.13 and accuracy of 0.64\n",
      "Iteration 300: with minibatch training loss = 1.2 and accuracy of 0.56\n",
      "Iteration 400: with minibatch training loss = 1.44 and accuracy of 0.59\n",
      "Iteration 500: with minibatch training loss = 1.11 and accuracy of 0.59\n",
      "Iteration 600: with minibatch training loss = 1.01 and accuracy of 0.62\n",
      "Iteration 700: with minibatch training loss = 1.22 and accuracy of 0.58\n",
      "Epoch 1, Overall loss = 1.46 and accuracy of 0.516\n"
     ]
    },
    {
     "data": {
      "text/plain": [
       "(1.456844262200959, 0.51644897959183678)"
      ]
     },
     "execution_count": 10,
     "metadata": {},
     "output_type": "execute_result"
    }
   ],
   "source": [
    "sess = tf.Session()\n",
    "\n",
    "sess.run(tf.global_variables_initializer())\n",
    "print('Training')\n",
    "run_model(sess,y_out,mean_loss,X_train,y_train,1,64,100,train_step)"
   ]
  },
  {
   "cell_type": "markdown",
   "metadata": {},
   "source": [
    "### Check the accuracy of the model.\n",
    "\n",
    "Let's see the train and test code in action -- feel free to use these methods when evaluating the models you develop below. You should see a loss of 1.3 to 2.0 with an accuracy of 0.45 to 0.55."
   ]
  },
  {
   "cell_type": "code",
   "execution_count": 11,
   "metadata": {},
   "outputs": [
    {
     "name": "stdout",
     "output_type": "stream",
     "text": [
      "Validation\n",
      "Epoch 1, Overall loss = 1.15 and accuracy of 0.604\n"
     ]
    },
    {
     "data": {
      "text/plain": [
       "(1.150823652267456, 0.60399999999999998)"
      ]
     },
     "execution_count": 11,
     "metadata": {},
     "output_type": "execute_result"
    }
   ],
   "source": [
    "print('Validation')\n",
    "run_model(sess,y_out,mean_loss,X_val,y_val,1,64)"
   ]
  },
  {
   "cell_type": "markdown",
   "metadata": {},
   "source": [
    "## Train a _great_ model on CIFAR-10!\n",
    "\n",
    "Now it's your job to experiment with architectures, hyperparameters, loss functions, and optimizers to train a model that achieves ** >= 70% accuracy on the validation set** of CIFAR-10. You can use the `run_model` function from above."
   ]
  },
  {
   "cell_type": "markdown",
   "metadata": {},
   "source": [
    "### Things you should try:\n",
    "- **Filter size**: Above we used 7x7; this makes pretty pictures but smaller filters may be more efficient\n",
    "- **Number of filters**: Above we used 32 filters. Do more or fewer do better?\n",
    "- **Pooling vs Strided Convolution**: Do you use max pooling or just stride convolutions?\n",
    "- **Batch normalization**: Try adding spatial batch normalization after convolution layers and vanilla batch normalization after affine layers. Do your networks train faster?\n",
    "- **Network architecture**: The network above has two layers of trainable parameters. Can you do better with a deep network? Good architectures to try include:\n",
    "    - [conv-relu-pool]xN -> [affine]xM -> [softmax or SVM]\n",
    "    - [conv-relu-conv-relu-pool]xN -> [affine]xM -> [softmax or SVM]\n",
    "    - [batchnorm-relu-conv]xN -> [affine]xM -> [softmax or SVM]\n",
    "- **Use TensorFlow Scope**: Use TensorFlow scope and/or [tf.layers](https://www.tensorflow.org/api_docs/python/tf/layers) to make it easier to write deeper networks. See [this tutorial](https://www.tensorflow.org/tutorials/layers) for how to use `tf.layers`. \n",
    "- **Use Learning Rate Decay**: [As the notes point out](http://cs231n.github.io/neural-networks-3/#anneal), decaying the learning rate might help the model converge. Feel free to decay every epoch, when loss doesn't change over an entire epoch, or any other heuristic you find appropriate. See the [Tensorflow documentation](https://www.tensorflow.org/versions/master/api_guides/python/train#Decaying_the_learning_rate) for learning rate decay.\n",
    "- **Global Average Pooling**: Instead of flattening and then having multiple affine layers, perform convolutions until your image gets small (7x7 or so) and then perform an average pooling operation to get to a 1x1 image picture (1, 1 , Filter#), which is then reshaped into a (Filter#) vector. This is used in [Google's Inception Network](https://arxiv.org/abs/1512.00567) (See Table 1 for their architecture).\n",
    "- **Regularization**: Add l2 weight regularization, or perhaps use [Dropout as in the TensorFlow MNIST tutorial](https://www.tensorflow.org/get_started/mnist/pros)\n",
    "\n",
    "### Tips for training\n",
    "For each network architecture that you try, you should tune the learning rate and regularization strength. When doing this there are a couple important things to keep in mind:\n",
    "\n",
    "- If the parameters are working well, you should see improvement within a few hundred iterations\n",
    "- Remember the coarse-to-fine approach for hyperparameter tuning: start by testing a large range of hyperparameters for just a few training iterations to find the combinations of parameters that are working at all.\n",
    "- Once you have found some sets of parameters that seem to work, search more finely around these parameters. You may need to train for more epochs.\n",
    "- You should use the validation set for hyperparameter search, and we'll save the test set for evaluating your architecture on the best parameters as selected by the validation set.\n",
    "\n",
    "### Going above and beyond\n",
    "If you are feeling adventurous there are many other features you can implement to try and improve your performance. You are **not required** to implement any of these; however they would be good things to try for extra credit.\n",
    "\n",
    "- Alternative update steps: For the assignment we implemented SGD+momentum, RMSprop, and Adam; you could try alternatives like AdaGrad or AdaDelta.\n",
    "- Alternative activation functions such as leaky ReLU, parametric ReLU, ELU, or MaxOut.\n",
    "- Model ensembles\n",
    "- Data augmentation\n",
    "- New Architectures\n",
    "  - [ResNets](https://arxiv.org/abs/1512.03385) where the input from the previous layer is added to the output.\n",
    "  - [DenseNets](https://arxiv.org/abs/1608.06993) where inputs into previous layers are concatenated together.\n",
    "  - [This blog has an in-depth overview](https://chatbotslife.com/resnets-highwaynets-and-densenets-oh-my-9bb15918ee32)\n",
    "\n",
    "If you do decide to implement something extra, clearly describe it in the \"Extra Credit Description\" cell below.\n",
    "\n",
    "### What we expect\n",
    "At the very least, you should be able to train a ConvNet that gets at **>= 70% accuracy on the validation set**. This is just a lower bound - if you are careful it should be possible to get accuracies much higher than that! Extra credit points will be awarded for particularly high-scoring models or unique approaches.\n",
    "\n",
    "You should use the space below to experiment and train your network. The final cell in this notebook should contain the training and validation set accuracies for your final trained network.\n",
    "\n",
    "Have fun and happy training!"
   ]
  },
  {
   "cell_type": "code",
   "execution_count": 47,
   "metadata": {},
   "outputs": [
    {
     "name": "stdout",
     "output_type": "stream",
     "text": [
      "INFO:tensorflow:Using default config.\n",
      "WARNING:tensorflow:Using temporary folder as model directory: /var/folders/qr/12klzrp54xv5j3z54dzp46w80000gn/T/tmpqmdezm7b\n",
      "INFO:tensorflow:Using config: {'_model_dir': '/var/folders/qr/12klzrp54xv5j3z54dzp46w80000gn/T/tmpqmdezm7b', '_tf_random_seed': None, '_save_summary_steps': 100, '_save_checkpoints_steps': None, '_save_checkpoints_secs': 600, '_session_config': None, '_keep_checkpoint_max': 5, '_keep_checkpoint_every_n_hours': 10000, '_log_step_count_steps': 100, '_service': None, '_cluster_spec': <tensorflow.python.training.server_lib.ClusterSpec object at 0x186d7e84a8>, '_task_type': 'worker', '_task_id': 0, '_master': '', '_is_chief': True, '_num_ps_replicas': 0, '_num_worker_replicas': 1}\n",
      "INFO:tensorflow:Create CheckpointSaverHook.\n",
      "INFO:tensorflow:Saving checkpoints for 1 into /var/folders/qr/12klzrp54xv5j3z54dzp46w80000gn/T/tmpqmdezm7b/model.ckpt.\n",
      "INFO:tensorflow:probabilities = [[ 0.000002    0.00000033  0.         ...,  0.          0.00000075\n",
      "   0.00003374]\n",
      " [ 0.          0.00000003  0.         ...,  0.99903238  0.00000088\n",
      "   0.00000013]\n",
      " [ 0.00005264  0.          0.         ...,  0.          0.          0.00201573]\n",
      " ..., \n",
      " [ 0.00118278  0.22602682  0.00000001 ...,  0.          0.          0.00049365]\n",
      " [ 0.00000023  0.00000009  0.         ...,  0.          0.00000053  0.        ]\n",
      " [ 0.          0.          0.         ...,  0.99345338  0.          0.        ]]\n",
      "INFO:tensorflow:loss = 21.278, step = 1\n",
      "INFO:tensorflow:probabilities = [[ 0.14173232  0.07862704  0.07376099 ...,  0.06494322  0.11552688\n",
      "   0.07318609]\n",
      " [ 0.12034309  0.08837211  0.07596228 ...,  0.09995259  0.12514485\n",
      "   0.11098145]\n",
      " [ 0.12782241  0.082344    0.1073538  ...,  0.11830819  0.1026971\n",
      "   0.09569621]\n",
      " ..., \n",
      " [ 0.09834612  0.08242329  0.0974838  ...,  0.09208694  0.09330112\n",
      "   0.08653282]\n",
      " [ 0.12260355  0.08686084  0.08577652 ...,  0.08766974  0.09078425\n",
      "   0.06930674]\n",
      " [ 0.0916079   0.11531556  0.09926514 ...,  0.10097668  0.10495166\n",
      "   0.10345396]] (114.079 sec)\n",
      "INFO:tensorflow:global_step/sec: 0.443656\n",
      "INFO:tensorflow:probabilities = [[ 0.05401719  0.0759436   0.11574846 ...,  0.16477026  0.02482273\n",
      "   0.07039765]\n",
      " [ 0.03733464  0.10342662  0.10395574 ...,  0.06979917  0.03600781\n",
      "   0.08088057]\n",
      " [ 0.94816613  0.00041092  0.01585864 ...,  0.0001941   0.02708364\n",
      "   0.00113528]\n",
      " ..., \n",
      " [ 0.13706815  0.07237437  0.07680937 ...,  0.05902893  0.11286558\n",
      "   0.13311224]\n",
      " [ 0.01601032  0.32275292  0.04994933 ...,  0.14575696  0.00871472\n",
      "   0.20352747]\n",
      " [ 0.22244485  0.16182342  0.04387195 ...,  0.06942143  0.196457\n",
      "   0.12845933]] (111.322 sec)\n",
      "INFO:tensorflow:loss = 1.96544, step = 101 (225.400 sec)\n",
      "INFO:tensorflow:probabilities = [[ 0.28387922  0.131605    0.04690331 ...,  0.03284055  0.11693295\n",
      "   0.22461008]\n",
      " [ 0.13859928  0.1205332   0.0395079  ...,  0.02982103  0.33612475\n",
      "   0.02537773]\n",
      " [ 0.12776099  0.21711889  0.02289455 ...,  0.02883449  0.02130228\n",
      "   0.48463044]\n",
      " ..., \n",
      " [ 0.00174279  0.00685974  0.04499889 ...,  0.03805221  0.01377788\n",
      "   0.0068561 ]\n",
      " [ 0.00288541  0.00635431  0.01294581 ...,  0.06071523  0.00333232\n",
      "   0.03641248]\n",
      " [ 0.04652226  0.2610918   0.02453235 ...,  0.10513426  0.03029705\n",
      "   0.116087  ]] (114.412 sec)\n",
      "INFO:tensorflow:global_step/sec: 0.444624\n",
      "INFO:tensorflow:probabilities = [[ 0.01644677  0.03317204  0.0748892  ...,  0.31056821  0.01357427\n",
      "   0.00901122]\n",
      " [ 0.16774194  0.279704    0.00109089 ...,  0.00059234  0.28646016\n",
      "   0.25679335]\n",
      " [ 0.06580602  0.28071189  0.01226379 ...,  0.06481238  0.11223573\n",
      "   0.27646524]\n",
      " ..., \n",
      " [ 0.01319214  0.61662847  0.00131774 ...,  0.00630627  0.00780509\n",
      "   0.31189439]\n",
      " [ 0.12346453  0.08116762  0.01970625 ...,  0.08348248  0.4939822\n",
      "   0.16414341]\n",
      " [ 0.01143883  0.0098828   0.10040423 ...,  0.09886645  0.00346517\n",
      "   0.02900849]] (110.498 sec)\n",
      "INFO:tensorflow:loss = 1.69518, step = 201 (224.910 sec)\n",
      "INFO:tensorflow:probabilities = [[ 0.11184934  0.0016914   0.35332513 ...,  0.03370379  0.00300083\n",
      "   0.02064801]\n",
      " [ 0.04918532  0.01447283  0.23475544 ...,  0.0948358   0.01679404\n",
      "   0.03535125]\n",
      " [ 0.03008037  0.02728013  0.10150639 ...,  0.05272956  0.02762445\n",
      "   0.05026592]\n",
      " ..., \n",
      " [ 0.19614029  0.00129959  0.42225891 ...,  0.01238556  0.00448491\n",
      "   0.00073377]\n",
      " [ 0.0341777   0.02231481  0.12353168 ...,  0.06329527  0.00952699\n",
      "   0.01557743]\n",
      " [ 0.05736274  0.31161553  0.03877911 ...,  0.11049204  0.02880553\n",
      "   0.2095131 ]] (113.273 sec)\n",
      "INFO:tensorflow:Saving checkpoints for 267 into /var/folders/qr/12klzrp54xv5j3z54dzp46w80000gn/T/tmpqmdezm7b/model.ckpt.\n",
      "INFO:tensorflow:Saving checkpoints for 300 into /var/folders/qr/12klzrp54xv5j3z54dzp46w80000gn/T/tmpqmdezm7b/model.ckpt.\n",
      "INFO:tensorflow:Loss for final step: 1.54184.\n"
     ]
    },
    {
     "ename": "NameError",
     "evalue": "name 'eval_labels' is not defined",
     "output_type": "error",
     "traceback": [
      "\u001b[0;31m---------------------------------------------------------------------------\u001b[0m",
      "\u001b[0;31mNameError\u001b[0m                                 Traceback (most recent call last)",
      "\u001b[0;32m<ipython-input-47-c2ca1b52e1e8>\u001b[0m in \u001b[0;36m<module>\u001b[0;34m()\u001b[0m\n\u001b[1;32m     26\u001b[0m eval_input_fn = tf.estimator.inputs.numpy_input_fn(\n\u001b[1;32m     27\u001b[0m     \u001b[0mx\u001b[0m\u001b[0;34m=\u001b[0m\u001b[0;34m{\u001b[0m\u001b[0;34m\"x\"\u001b[0m\u001b[0;34m:\u001b[0m \u001b[0mX_val\u001b[0m\u001b[0;34m}\u001b[0m\u001b[0;34m,\u001b[0m\u001b[0;34m\u001b[0m\u001b[0m\n\u001b[0;32m---> 28\u001b[0;31m     \u001b[0my\u001b[0m\u001b[0;34m=\u001b[0m\u001b[0meval_labels\u001b[0m\u001b[0;34m,\u001b[0m\u001b[0;34m\u001b[0m\u001b[0m\n\u001b[0m\u001b[1;32m     29\u001b[0m     \u001b[0mnum_epochs\u001b[0m\u001b[0;34m=\u001b[0m\u001b[0;36m1\u001b[0m\u001b[0;34m,\u001b[0m\u001b[0;34m\u001b[0m\u001b[0m\n\u001b[1;32m     30\u001b[0m     shuffle=False)\n",
      "\u001b[0;31mNameError\u001b[0m: name 'eval_labels' is not defined"
     ]
    }
   ],
   "source": [
    "from cs231n.my_model import *\n",
    "\n",
    "tf.reset_default_graph()\n",
    "\n",
    "params = dict()\n",
    "classifier =  tf.estimator.Estimator(model_fn=cnn_fn, params = params)\n",
    "\n",
    "# Set up logging for predictions\n",
    "tensors_to_log = {\"probabilities\": \"softmax_tensor\"}\n",
    "logging_hook = tf.train.LoggingTensorHook(tensors=tensors_to_log, every_n_iter=50)\n",
    "\n",
    "\n",
    "# Train the model\n",
    "train_input_fn = tf.estimator.inputs.numpy_input_fn(\n",
    "    x={\"x\": X_train.astype(np.float32)},\n",
    "    y=y_train,\n",
    "    batch_size=128,\n",
    "    num_epochs=None,\n",
    "    shuffle=True)\n",
    "classifier.train(\n",
    "    input_fn=train_input_fn,\n",
    "    steps=300,\n",
    "    hooks=[logging_hook])\n",
    "\n"
   ]
  },
  {
   "cell_type": "code",
   "execution_count": 53,
   "metadata": {},
   "outputs": [
    {
     "name": "stdout",
     "output_type": "stream",
     "text": [
      "INFO:tensorflow:Starting evaluation at 2018-01-14-13:55:23\n",
      "INFO:tensorflow:Restoring parameters from /var/folders/qr/12klzrp54xv5j3z54dzp46w80000gn/T/tmpqmdezm7b/model.ckpt-300\n",
      "INFO:tensorflow:Finished evaluation at 2018-01-14-13:55:29\n",
      "INFO:tensorflow:Saving dict for global step 300: accuracy = 0.489, global_step = 300, loss = 1.49378\n",
      "{'accuracy': 0.48899999, 'loss': 1.4937782, 'global_step': 300}\n"
     ]
    }
   ],
   "source": [
    "\n",
    "# Evaluate the model and print results\n",
    "eval_input_fn = tf.estimator.inputs.numpy_input_fn(\n",
    "    x={\"x\": X_val.astype(np.float32)},\n",
    "    y=y_val,\n",
    "    num_epochs=1,\n",
    "    shuffle=False)\n",
    "eval_results = classifier.evaluate(input_fn=eval_input_fn)\n",
    "print(eval_results)"
   ]
  },
  {
   "cell_type": "code",
   "execution_count": null,
   "metadata": {
    "collapsed": true
   },
   "outputs": [],
   "source": [
    "# Feel free to play with this cell\n",
    "\n",
    "def my_model(X,y,is_training):\n",
    "    pass\n",
    "\n",
    "tf.reset_default_graph()\n",
    "\n",
    "X = tf.placeholder(tf.float32, [None, 32, 32, 3])\n",
    "y = tf.placeholder(tf.int64, [None])\n",
    "is_training = tf.placeholder(tf.bool)\n",
    "\n",
    "y_out = my_model(X,y,is_training)\n",
    "mean_loss = None\n",
    "optimizer = None\n",
    "\n",
    "\n",
    "pass\n",
    "\n",
    "# batch normalization in tensorflow requires this extra dependency\n",
    "extra_update_ops = tf.get_collection(tf.GraphKeys.UPDATE_OPS)\n",
    "with tf.control_dependencies(extra_update_ops):\n",
    "    train_step = optimizer.minimize(mean_loss)"
   ]
  },
  {
   "cell_type": "code",
   "execution_count": null,
   "metadata": {
    "collapsed": true
   },
   "outputs": [],
   "source": [
    "# Feel free to play with this cell\n",
    "# This default code creates a session\n",
    "# and trains your model for 10 epochs\n",
    "# then prints the validation set accuracy\n",
    "sess = tf.Session()\n",
    "\n",
    "sess.run(tf.global_variables_initializer())\n",
    "print('Training')\n",
    "run_model(sess,y_out,mean_loss,X_train,y_train,10,64,100,train_step,True)\n",
    "print('Validation')\n",
    "run_model(sess,y_out,mean_loss,X_val,y_val,1,64)"
   ]
  },
  {
   "cell_type": "code",
   "execution_count": null,
   "metadata": {
    "collapsed": true
   },
   "outputs": [],
   "source": [
    "# Test your model here, and make sure \n",
    "# the output of this cell is the accuracy\n",
    "# of your best model on the training and val sets\n",
    "# We're looking for >= 70% accuracy on Validation\n",
    "print('Training')\n",
    "run_model(sess,y_out,mean_loss,X_train,y_train,1,64)\n",
    "print('Validation')\n",
    "run_model(sess,y_out,mean_loss,X_val,y_val,1,64)"
   ]
  },
  {
   "cell_type": "markdown",
   "metadata": {},
   "source": [
    "### Describe what you did here\n",
    "In this cell you should also write an explanation of what you did, any additional features that you implemented, and any visualizations or graphs that you make in the process of training and evaluating your network"
   ]
  },
  {
   "cell_type": "markdown",
   "metadata": {},
   "source": [
    "_Tell us here_"
   ]
  },
  {
   "cell_type": "markdown",
   "metadata": {},
   "source": [
    "### Test Set - Do this only once\n",
    "Now that we've gotten a result that we're happy with, we test our final model on the test set. This would be the score we would achieve on a competition. Think about how this compares to your validation set accuracy."
   ]
  },
  {
   "cell_type": "code",
   "execution_count": null,
   "metadata": {
    "collapsed": true
   },
   "outputs": [],
   "source": [
    "print('Test')\n",
    "run_model(sess,y_out,mean_loss,X_test,y_test,1,64)"
   ]
  },
  {
   "cell_type": "markdown",
   "metadata": {},
   "source": [
    "## Going further with TensorFlow\n",
    "\n",
    "The next assignment will make heavy use of TensorFlow. You might also find it useful for your projects. \n"
   ]
  },
  {
   "cell_type": "markdown",
   "metadata": {},
   "source": [
    "# Extra Credit Description\n",
    "If you implement any additional features for extra credit, clearly describe them here with pointers to any code in this or other files if applicable."
   ]
  }
 ],
 "metadata": {
  "kernelspec": {
   "display_name": "Python 3",
   "language": "python",
   "name": "python3"
  },
  "language_info": {
   "codemirror_mode": {
    "name": "ipython",
    "version": 3
   },
   "file_extension": ".py",
   "mimetype": "text/x-python",
   "name": "python",
   "nbconvert_exporter": "python",
   "pygments_lexer": "ipython3",
   "version": "3.6.3"
  }
 },
 "nbformat": 4,
 "nbformat_minor": 1
}
